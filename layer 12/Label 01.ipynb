{
 "cells": [
  {
   "cell_type": "code",
   "execution_count": 1,
   "id": "620228e1",
   "metadata": {},
   "outputs": [],
   "source": [
    "# import libraries\n",
    "import numpy as np\n",
    "import pandas as pd\n",
    "from sklearn.preprocessing import StandardScaler\n",
    "from sklearn.ensemble import RandomForestClassifier\n",
    "from sklearn.metrics import classification_report, mean_squared_error\n",
    "from sklearn.decomposition import PCA\n",
    "import matplotlib.pyplot as plt\n",
    "from sklearn.neighbors import KNeighborsClassifier\n",
    "from sklearn.svm import SVC\n",
    "from sklearn.model_selection import cross_val_score, KFold\n",
    "from sklearn.feature_selection import f_classif\n",
    "from sklearn.feature_selection import SelectKBest\n",
    "from sklearn.model_selection import GridSearchCV"
   ]
  },
  {
   "cell_type": "code",
   "execution_count": 2,
   "id": "01fd9cee",
   "metadata": {},
   "outputs": [],
   "source": [
    "# read the test and train data files\n",
    "train_df = pd.read_csv(\"train.csv\")\n",
    "valid_df = pd.read_csv(\"valid.csv\")\n",
    "test_df = pd.read_csv(\"test.csv\")"
   ]
  },
  {
   "cell_type": "markdown",
   "id": "a37020cc",
   "metadata": {},
   "source": [
    "label 01"
   ]
  },
  {
   "cell_type": "code",
   "execution_count": 3,
   "id": "244f3434",
   "metadata": {},
   "outputs": [],
   "source": [
    "train1_df = train_df.iloc[:,:-3]\n",
    "valid1_df = valid_df.iloc[:, :-3]\n",
    "test1_df = test_df.iloc[:, 1:]\n",
    "\n",
    "train1_df.dropna(inplace=True)\n",
    "valid1_df.dropna(inplace=True)\n",
    "test1_df.dropna(inplace=True)"
   ]
  },
  {
   "cell_type": "code",
   "execution_count": 4,
   "id": "04377993",
   "metadata": {},
   "outputs": [],
   "source": [
    "# splitting the test and train datasets into X and Y values\n",
    "X1_train= train1_df.iloc[:,0:-1].values\n",
    "Y1_train = train1_df.iloc[:,-1].values\n",
    "X1_valid = valid1_df.iloc[:,0:-1].values\n",
    "Y1_valid = valid1_df.iloc[:,-1].values\n",
    "X1_test = test1_df.iloc[:,:].values"
   ]
  },
  {
   "cell_type": "code",
   "execution_count": 5,
   "id": "b0fe5d02",
   "metadata": {},
   "outputs": [],
   "source": [
    "# scalling and fitting data\n",
    "scaler = StandardScaler()\n",
    "scaler.fit(X1_train)\n",
    "\n",
    "X1_train = scaler.transform(X1_train)\n",
    "X1_valid = scaler.transform(X1_valid)\n",
    "X1_test = scaler.transform(X1_test)"
   ]
  },
  {
   "cell_type": "code",
   "execution_count": 6,
   "id": "99d1d444",
   "metadata": {},
   "outputs": [
    {
     "name": "stdout",
     "output_type": "stream",
     "text": [
      "Random Forest Cross-validation scores: [0.75280505 0.75596073 0.76192146 0.74684432 0.75298036]\n",
      "Random Forest Mean accuracy: 0.7541023842917252\n",
      "Random Forest Standard deviation: 0.004903322890999533\n",
      "\n",
      "\n",
      "K-Nearest Neighbors Cross-validation scores: [0.79242637 0.78629032 0.79365358 0.77349229 0.78593969]\n",
      "K-Nearest Neighbors Mean accuracy: 0.786360448807854\n",
      "K-Nearest Neighbors Standard deviation: 0.007152015733643862\n",
      "\n",
      "\n",
      "Support Vector Machine Cross-validation scores: [0.89726508 0.89621318 0.9019986  0.88920056 0.89112903]\n",
      "Support Vector Machine Mean accuracy: 0.8951612903225807\n",
      "Support Vector Machine Standard deviation: 0.0045622487186042565\n",
      "\n",
      "\n"
     ]
    }
   ],
   "source": [
    "classifiers = [\n",
    "    (\"Random Forest\", RandomForestClassifier()),\n",
    "    (\"K-Nearest Neighbors\", KNeighborsClassifier()),\n",
    "    (\"Support Vector Machine\", SVC())\n",
    "]\n",
    "\n",
    "kf = KFold(n_splits=5, shuffle=True, random_state=42)  # You can change the shuffling and random state\n",
    "\n",
    "# Iterate over each classifier and perform cross-validation\n",
    "for clf_name, clf in classifiers:\n",
    "    cross_val_scores = cross_val_score(clf, X1_train, Y1_train, cv=kf, scoring='accuracy')\n",
    "    \n",
    "    # Print the cross-validation scores for each classifier\n",
    "    print(f\"{clf_name} Cross-validation scores:\", cross_val_scores)\n",
    "    \n",
    "    # Calculate and print the mean and standard deviation of the scores\n",
    "    print(f\"{clf_name} Mean accuracy:\", cross_val_scores.mean())\n",
    "    print(f\"{clf_name} Standard deviation:\", cross_val_scores.std())\n",
    "    print(\"\\n\")"
   ]
  },
  {
   "cell_type": "code",
   "execution_count": 16,
   "id": "1193c60c",
   "metadata": {},
   "outputs": [
    {
     "name": "stdout",
     "output_type": "stream",
     "text": [
      "              precision    recall  f1-score   support\n",
      "\n",
      "           1       0.00      0.00      0.00        13\n",
      "           2       0.00      0.00      0.00         9\n",
      "           3       0.00      0.00      0.00        12\n",
      "           4       0.00      0.00      0.00        16\n",
      "           5       0.00      0.00      0.00        18\n",
      "           6       0.00      0.00      0.00         9\n",
      "           7       0.00      0.00      0.00        17\n",
      "           8       0.00      0.00      0.00        14\n",
      "           9       0.00      0.00      0.00        11\n",
      "          10       0.00      0.00      0.00         8\n",
      "          11       0.00      0.00      0.00        19\n",
      "          12       0.00      0.00      0.00         7\n",
      "          13       0.00      0.00      0.00        11\n",
      "          14       0.00      0.00      0.00        15\n",
      "          15       0.00      0.00      0.00        17\n",
      "          16       0.00      0.00      0.00        14\n",
      "          17       0.00      0.00      0.00        14\n",
      "          18       0.00      0.00      0.00        19\n",
      "          19       0.00      0.00      0.00        15\n",
      "          20       0.00      0.00      0.00        11\n",
      "          21       0.00      0.00      0.00        14\n",
      "          22       0.00      0.00      0.00        11\n",
      "          23       0.00      0.00      0.00        10\n",
      "          24       0.00      0.00      0.00        12\n",
      "          25       0.00      0.00      0.00        11\n",
      "          26       0.00      0.00      0.00         7\n",
      "          27       0.00      0.00      0.00        16\n",
      "          28       0.00      0.00      0.00        11\n",
      "          29       0.00      0.00      0.00        15\n",
      "          30       0.00      0.00      0.00         8\n",
      "          31       0.00      0.00      0.00        12\n",
      "          32       0.00      0.00      0.00         9\n",
      "          33       0.00      0.00      0.00         6\n",
      "          34       0.00      0.00      0.00        13\n",
      "          35       0.00      0.00      0.00         8\n",
      "          36       0.00      0.00      0.00        18\n",
      "          37       0.00      0.00      0.00        16\n",
      "          38       0.00      0.00      0.00        11\n",
      "          39       0.00      0.00      0.00        13\n",
      "          40       0.00      0.00      0.00        12\n",
      "          41       0.00      0.00      0.00        10\n",
      "          42       0.00      0.00      0.00        12\n",
      "          43       0.00      0.00      0.00        12\n",
      "          44       0.00      0.00      0.00        19\n",
      "          45       0.02      1.00      0.04        14\n",
      "          46       0.00      0.00      0.00        11\n",
      "          47       0.00      0.00      0.00         8\n",
      "          48       0.00      0.00      0.00        17\n",
      "          49       0.00      0.00      0.00        13\n",
      "          50       0.00      0.00      0.00        13\n",
      "          51       0.00      0.00      0.00         8\n",
      "          52       0.00      0.00      0.00        11\n",
      "          53       0.00      0.00      0.00        15\n",
      "          54       0.00      0.00      0.00         9\n",
      "          55       0.00      0.00      0.00         8\n",
      "          56       0.00      0.00      0.00        10\n",
      "          57       0.00      0.00      0.00        18\n",
      "          58       0.00      0.00      0.00        20\n",
      "          59       0.00      0.00      0.00        10\n",
      "          60       0.00      0.00      0.00        10\n",
      "\n",
      "    accuracy                           0.02       750\n",
      "   macro avg       0.00      0.02      0.00       750\n",
      "weighted avg       0.00      0.02      0.00       750\n",
      "\n"
     ]
    },
    {
     "name": "stderr",
     "output_type": "stream",
     "text": [
      "/home/poorna/miniconda3/envs/lab/lib/python3.11/site-packages/sklearn/metrics/_classification.py:1344: UndefinedMetricWarning: Precision and F-score are ill-defined and being set to 0.0 in labels with no predicted samples. Use `zero_division` parameter to control this behavior.\n",
      "  _warn_prf(average, modifier, msg_start, len(result))\n",
      "/home/poorna/miniconda3/envs/lab/lib/python3.11/site-packages/sklearn/metrics/_classification.py:1344: UndefinedMetricWarning: Precision and F-score are ill-defined and being set to 0.0 in labels with no predicted samples. Use `zero_division` parameter to control this behavior.\n",
      "  _warn_prf(average, modifier, msg_start, len(result))\n",
      "/home/poorna/miniconda3/envs/lab/lib/python3.11/site-packages/sklearn/metrics/_classification.py:1344: UndefinedMetricWarning: Precision and F-score are ill-defined and being set to 0.0 in labels with no predicted samples. Use `zero_division` parameter to control this behavior.\n",
      "  _warn_prf(average, modifier, msg_start, len(result))\n"
     ]
    }
   ],
   "source": [
    "# Initialize and train a Support Vector Machine classifier\n",
    "svm_classifier = SVC()\n",
    "svm_classifier.fit(X1_train, Y1_train)\n",
    "\n",
    "# Make predictions on the test set\n",
    "y_pred = svm_classifier.predict(X1_valid)\n",
    "\n",
    "print(classification_report(Y1_valid, y_pred))"
   ]
  },
  {
   "cell_type": "code",
   "execution_count": 17,
   "id": "f497a7db",
   "metadata": {},
   "outputs": [],
   "source": [
    "# Create a SelectKBest instance with a scoring function (e.g., chi-squared)\n",
    "selector = SelectKBest(score_func=f_classif, k=250)  # Select the top 2 features\n",
    "\n",
    "# Fit and transform your data to select the best k features\n",
    "X1_best_train = selector.fit_transform(X1_train, Y1_train)\n",
    "X1_best_valid = selector.transform(X1_valid)\n",
    "X1_best_test = selector.transform(X1_test)"
   ]
  },
  {
   "cell_type": "code",
   "execution_count": 18,
   "id": "7705381d",
   "metadata": {},
   "outputs": [
    {
     "name": "stdout",
     "output_type": "stream",
     "text": [
      "              precision    recall  f1-score   support\n",
      "\n",
      "           1       0.00      0.00      0.00        13\n",
      "           2       0.00      0.00      0.00         9\n",
      "           3       0.00      0.00      0.00        12\n",
      "           4       0.00      0.00      0.00        16\n",
      "           5       0.00      0.00      0.00        18\n",
      "           6       0.00      0.00      0.00         9\n",
      "           7       0.00      0.00      0.00        17\n",
      "           8       0.00      0.00      0.00        14\n",
      "           9       0.00      0.00      0.00        11\n",
      "          10       0.00      0.00      0.00         8\n",
      "          11       0.00      0.00      0.00        19\n",
      "          12       0.00      0.00      0.00         7\n",
      "          13       0.00      0.00      0.00        11\n",
      "          14       0.00      0.00      0.00        15\n",
      "          15       0.00      0.00      0.00        17\n",
      "          16       0.00      0.00      0.00        14\n",
      "          17       0.00      0.00      0.00        14\n",
      "          18       0.00      0.00      0.00        19\n",
      "          19       0.00      0.00      0.00        15\n",
      "          20       0.00      0.00      0.00        11\n",
      "          21       0.00      0.00      0.00        14\n",
      "          22       0.00      0.00      0.00        11\n",
      "          23       0.00      0.00      0.00        10\n",
      "          24       0.00      0.00      0.00        12\n",
      "          25       0.00      0.00      0.00        11\n",
      "          26       0.00      0.00      0.00         7\n",
      "          27       0.00      0.00      0.00        16\n",
      "          28       0.00      0.00      0.00        11\n",
      "          29       0.00      0.00      0.00        15\n",
      "          30       0.00      0.00      0.00         8\n",
      "          31       0.00      0.00      0.00        12\n",
      "          32       0.00      0.00      0.00         9\n",
      "          33       0.00      0.00      0.00         6\n",
      "          34       0.00      0.00      0.00        13\n",
      "          35       0.00      0.00      0.00         8\n",
      "          36       0.00      0.00      0.00        18\n",
      "          37       0.00      0.00      0.00        16\n",
      "          38       0.00      0.00      0.00        11\n",
      "          39       0.00      0.00      0.00        13\n",
      "          40       0.00      0.00      0.00        12\n",
      "          41       0.00      0.00      0.00        10\n",
      "          42       0.00      0.00      0.00        12\n",
      "          43       0.00      0.00      0.00        12\n",
      "          44       0.00      0.00      0.00        19\n",
      "          45       0.00      0.00      0.00        14\n",
      "          46       0.01      1.00      0.03        11\n",
      "          47       0.00      0.00      0.00         8\n",
      "          48       0.00      0.00      0.00        17\n",
      "          49       0.00      0.00      0.00        13\n",
      "          50       0.00      0.00      0.00        13\n",
      "          51       0.00      0.00      0.00         8\n",
      "          52       0.00      0.00      0.00        11\n",
      "          53       0.00      0.00      0.00        15\n",
      "          54       0.00      0.00      0.00         9\n",
      "          55       0.00      0.00      0.00         8\n",
      "          56       0.00      0.00      0.00        10\n",
      "          57       0.00      0.00      0.00        18\n",
      "          58       0.00      0.00      0.00        20\n",
      "          59       0.00      0.00      0.00        10\n",
      "          60       0.00      0.00      0.00        10\n",
      "\n",
      "    accuracy                           0.01       750\n",
      "   macro avg       0.00      0.02      0.00       750\n",
      "weighted avg       0.00      0.01      0.00       750\n",
      "\n"
     ]
    },
    {
     "name": "stderr",
     "output_type": "stream",
     "text": [
      "/home/poorna/miniconda3/envs/lab/lib/python3.11/site-packages/sklearn/metrics/_classification.py:1344: UndefinedMetricWarning: Precision and F-score are ill-defined and being set to 0.0 in labels with no predicted samples. Use `zero_division` parameter to control this behavior.\n",
      "  _warn_prf(average, modifier, msg_start, len(result))\n",
      "/home/poorna/miniconda3/envs/lab/lib/python3.11/site-packages/sklearn/metrics/_classification.py:1344: UndefinedMetricWarning: Precision and F-score are ill-defined and being set to 0.0 in labels with no predicted samples. Use `zero_division` parameter to control this behavior.\n",
      "  _warn_prf(average, modifier, msg_start, len(result))\n",
      "/home/poorna/miniconda3/envs/lab/lib/python3.11/site-packages/sklearn/metrics/_classification.py:1344: UndefinedMetricWarning: Precision and F-score are ill-defined and being set to 0.0 in labels with no predicted samples. Use `zero_division` parameter to control this behavior.\n",
      "  _warn_prf(average, modifier, msg_start, len(result))\n"
     ]
    }
   ],
   "source": [
    "svm_classifier.fit(X1_best_train, Y1_train)\n",
    "\n",
    "# Make predictions on the test set\n",
    "y_pred = svm_classifier.predict(X1_best_valid)\n",
    "\n",
    "print(classification_report(Y1_valid, y_pred))"
   ]
  },
  {
   "cell_type": "code",
   "execution_count": 19,
   "id": "ceee5779",
   "metadata": {},
   "outputs": [],
   "source": [
    "pca=PCA(0.9)\n",
    "pca = pca.fit(X1_best_train)\n",
    "\n",
    "x_1_train_pca=pca.fit_transform(X1_best_train)\n",
    "x_1_valid_pca = pca.transform(X1_best_valid)\n",
    "x_1_test_pca = pca.transform(X1_best_test)"
   ]
  },
  {
   "cell_type": "code",
   "execution_count": 20,
   "id": "2cc000e5",
   "metadata": {},
   "outputs": [
    {
     "name": "stdout",
     "output_type": "stream",
     "text": [
      "              precision    recall  f1-score   support\n",
      "\n",
      "           1       0.00      0.00      0.00        13\n",
      "           2       0.00      0.00      0.00         9\n",
      "           3       0.00      0.00      0.00        12\n",
      "           4       0.00      0.00      0.00        16\n",
      "           5       0.00      0.00      0.00        18\n",
      "           6       0.00      0.00      0.00         9\n",
      "           7       0.00      0.00      0.00        17\n",
      "           8       0.00      0.00      0.00        14\n",
      "           9       0.00      0.00      0.00        11\n",
      "          10       0.00      0.00      0.00         8\n",
      "          11       0.00      0.00      0.00        19\n",
      "          12       0.00      0.00      0.00         7\n",
      "          13       0.00      0.00      0.00        11\n",
      "          14       0.00      0.00      0.00        15\n",
      "          15       0.00      0.00      0.00        17\n",
      "          16       0.00      0.00      0.00        14\n",
      "          17       0.00      0.00      0.00        14\n",
      "          18       0.00      0.00      0.00        19\n",
      "          19       0.00      0.00      0.00        15\n",
      "          20       0.00      0.00      0.00        11\n",
      "          21       0.00      0.00      0.00        14\n",
      "          22       0.00      0.00      0.00        11\n",
      "          23       0.00      0.00      0.00        10\n",
      "          24       0.00      0.00      0.00        12\n",
      "          25       0.00      0.00      0.00        11\n",
      "          26       0.00      0.00      0.00         7\n",
      "          27       0.00      0.00      0.00        16\n",
      "          28       0.00      0.00      0.00        11\n",
      "          29       0.00      0.00      0.00        15\n",
      "          30       0.00      0.00      0.00         8\n",
      "          31       0.00      0.00      0.00        12\n",
      "          32       0.00      0.00      0.00         9\n",
      "          33       0.00      0.00      0.00         6\n",
      "          34       0.00      0.00      0.00        13\n",
      "          35       0.00      0.00      0.00         8\n",
      "          36       0.00      0.00      0.00        18\n",
      "          37       0.00      0.00      0.00        16\n",
      "          38       0.00      0.00      0.00        11\n",
      "          39       0.00      0.00      0.00        13\n",
      "          40       0.00      0.00      0.00        12\n",
      "          41       0.00      0.00      0.00        10\n",
      "          42       0.00      0.00      0.00        12\n",
      "          43       0.00      0.00      0.00        12\n",
      "          44       0.00      0.00      0.00        19\n",
      "          45       0.00      0.00      0.00        14\n",
      "          46       0.01      1.00      0.03        11\n",
      "          47       0.00      0.00      0.00         8\n",
      "          48       0.00      0.00      0.00        17\n",
      "          49       0.00      0.00      0.00        13\n",
      "          50       0.00      0.00      0.00        13\n",
      "          51       0.00      0.00      0.00         8\n",
      "          52       0.00      0.00      0.00        11\n",
      "          53       0.00      0.00      0.00        15\n",
      "          54       0.00      0.00      0.00         9\n",
      "          55       0.00      0.00      0.00         8\n",
      "          56       0.00      0.00      0.00        10\n",
      "          57       0.00      0.00      0.00        18\n",
      "          58       0.00      0.00      0.00        20\n",
      "          59       0.00      0.00      0.00        10\n",
      "          60       0.00      0.00      0.00        10\n",
      "\n",
      "    accuracy                           0.01       750\n",
      "   macro avg       0.00      0.02      0.00       750\n",
      "weighted avg       0.00      0.01      0.00       750\n",
      "\n"
     ]
    },
    {
     "name": "stderr",
     "output_type": "stream",
     "text": [
      "/home/poorna/miniconda3/envs/lab/lib/python3.11/site-packages/sklearn/metrics/_classification.py:1344: UndefinedMetricWarning: Precision and F-score are ill-defined and being set to 0.0 in labels with no predicted samples. Use `zero_division` parameter to control this behavior.\n",
      "  _warn_prf(average, modifier, msg_start, len(result))\n",
      "/home/poorna/miniconda3/envs/lab/lib/python3.11/site-packages/sklearn/metrics/_classification.py:1344: UndefinedMetricWarning: Precision and F-score are ill-defined and being set to 0.0 in labels with no predicted samples. Use `zero_division` parameter to control this behavior.\n",
      "  _warn_prf(average, modifier, msg_start, len(result))\n",
      "/home/poorna/miniconda3/envs/lab/lib/python3.11/site-packages/sklearn/metrics/_classification.py:1344: UndefinedMetricWarning: Precision and F-score are ill-defined and being set to 0.0 in labels with no predicted samples. Use `zero_division` parameter to control this behavior.\n",
      "  _warn_prf(average, modifier, msg_start, len(result))\n"
     ]
    }
   ],
   "source": [
    "svm_classifier.fit(x_1_train_pca, Y1_train)\n",
    "\n",
    "# Make predictions on the test set\n",
    "y_pred = svm_classifier.predict(x_1_valid_pca)\n",
    "\n",
    "print(classification_report(Y1_valid, y_pred))"
   ]
  },
  {
   "cell_type": "code",
   "execution_count": 21,
   "id": "bfca87b1",
   "metadata": {},
   "outputs": [
    {
     "data": {
      "text/plain": [
       "(28520, 73)"
      ]
     },
     "execution_count": 21,
     "metadata": {},
     "output_type": "execute_result"
    }
   ],
   "source": [
    "x_1_train_pca.shape"
   ]
  },
  {
   "cell_type": "code",
   "execution_count": 22,
   "id": "9da4e703",
   "metadata": {},
   "outputs": [
    {
     "name": "stdout",
     "output_type": "stream",
     "text": [
      "Fitting 5 folds for each of 9 candidates, totalling 45 fits\n",
      "Best Hyperparameters: {'C': 10, 'kernel': 'rbf'}\n",
      "Best Accuracy: 0.8857293127629735\n"
     ]
    }
   ],
   "source": [
    "param_grid = {\n",
    "    'C': [0.1, 1, 10],\n",
    "    'kernel': ['linear', 'rbf', 'poly'],\n",
    "}\n",
    "\n",
    "# Create a GridSearchCV object with cross-validation\n",
    "grid_search = GridSearchCV(svm_classifier, param_grid, cv=5, scoring='accuracy', verbose=1, n_jobs=-1)\n",
    "\n",
    "# Fit the GridSearchCV object to the data to find the best hyperparameters\n",
    "grid_search.fit(x_1_train_pca, Y1_train)\n",
    "\n",
    "# Print the best hyperparameters and corresponding accuracy\n",
    "best_params = grid_search.best_params_\n",
    "best_accuracy = grid_search.best_score_\n",
    "print(\"Best Hyperparameters:\", best_params)\n",
    "print(\"Best Accuracy:\", best_accuracy)"
   ]
  },
  {
   "cell_type": "code",
   "execution_count": 23,
   "id": "f54b91d5",
   "metadata": {},
   "outputs": [
    {
     "name": "stdout",
     "output_type": "stream",
     "text": [
      "              precision    recall  f1-score   support\n",
      "\n",
      "           1       0.00      0.00      0.00        13\n",
      "           2       0.00      0.00      0.00         9\n",
      "           3       0.00      0.00      0.00        12\n",
      "           4       0.00      0.00      0.00        16\n",
      "           5       0.00      0.00      0.00        18\n",
      "           6       0.00      0.00      0.00         9\n",
      "           7       0.00      0.00      0.00        17\n",
      "           8       0.00      0.00      0.00        14\n",
      "           9       0.00      0.00      0.00        11\n",
      "          10       0.00      0.00      0.00         8\n",
      "          11       0.00      0.00      0.00        19\n",
      "          12       0.00      0.00      0.00         7\n",
      "          13       0.00      0.00      0.00        11\n",
      "          14       0.00      0.00      0.00        15\n",
      "          15       0.00      0.00      0.00        17\n",
      "          16       0.00      0.00      0.00        14\n",
      "          17       0.00      0.00      0.00        14\n",
      "          18       0.00      0.00      0.00        19\n",
      "          19       0.00      0.00      0.00        15\n",
      "          20       0.00      0.00      0.00        11\n",
      "          21       0.00      0.00      0.00        14\n",
      "          22       0.00      0.00      0.00        11\n",
      "          23       0.00      0.00      0.00        10\n",
      "          24       0.00      0.00      0.00        12\n",
      "          25       0.00      0.00      0.00        11\n",
      "          26       0.00      0.00      0.00         7\n",
      "          27       0.00      0.00      0.00        16\n",
      "          28       0.00      0.00      0.00        11\n",
      "          29       0.00      0.00      0.00        15\n",
      "          30       0.00      0.00      0.00         8\n",
      "          31       0.00      0.00      0.00        12\n",
      "          32       0.00      0.00      0.00         9\n",
      "          33       0.00      0.00      0.00         6\n",
      "          34       0.00      0.00      0.00        13\n",
      "          35       0.00      0.00      0.00         8\n",
      "          36       0.00      0.00      0.00        18\n",
      "          37       0.00      0.00      0.00        16\n",
      "          38       0.00      0.00      0.00        11\n",
      "          39       0.00      0.00      0.00        13\n",
      "          40       0.00      0.00      0.00        12\n",
      "          41       0.00      0.00      0.00        10\n",
      "          42       0.00      0.00      0.00        12\n",
      "          43       0.00      0.00      0.00        12\n",
      "          44       0.00      0.00      0.00        19\n",
      "          45       0.00      0.00      0.00        14\n",
      "          46       0.01      1.00      0.03        11\n",
      "          47       0.00      0.00      0.00         8\n",
      "          48       0.00      0.00      0.00        17\n",
      "          49       0.00      0.00      0.00        13\n",
      "          50       0.00      0.00      0.00        13\n",
      "          51       0.00      0.00      0.00         8\n",
      "          52       0.00      0.00      0.00        11\n",
      "          53       0.00      0.00      0.00        15\n",
      "          54       0.00      0.00      0.00         9\n",
      "          55       0.00      0.00      0.00         8\n",
      "          56       0.00      0.00      0.00        10\n",
      "          57       0.00      0.00      0.00        18\n",
      "          58       0.00      0.00      0.00        20\n",
      "          59       0.00      0.00      0.00        10\n",
      "          60       0.00      0.00      0.00        10\n",
      "\n",
      "    accuracy                           0.01       750\n",
      "   macro avg       0.00      0.02      0.00       750\n",
      "weighted avg       0.00      0.01      0.00       750\n",
      "\n"
     ]
    },
    {
     "name": "stderr",
     "output_type": "stream",
     "text": [
      "/home/poorna/miniconda3/envs/lab/lib/python3.11/site-packages/sklearn/metrics/_classification.py:1344: UndefinedMetricWarning: Precision and F-score are ill-defined and being set to 0.0 in labels with no predicted samples. Use `zero_division` parameter to control this behavior.\n",
      "  _warn_prf(average, modifier, msg_start, len(result))\n",
      "/home/poorna/miniconda3/envs/lab/lib/python3.11/site-packages/sklearn/metrics/_classification.py:1344: UndefinedMetricWarning: Precision and F-score are ill-defined and being set to 0.0 in labels with no predicted samples. Use `zero_division` parameter to control this behavior.\n",
      "  _warn_prf(average, modifier, msg_start, len(result))\n",
      "/home/poorna/miniconda3/envs/lab/lib/python3.11/site-packages/sklearn/metrics/_classification.py:1344: UndefinedMetricWarning: Precision and F-score are ill-defined and being set to 0.0 in labels with no predicted samples. Use `zero_division` parameter to control this behavior.\n",
      "  _warn_prf(average, modifier, msg_start, len(result))\n"
     ]
    }
   ],
   "source": [
    "best_model = grid_search.best_estimator_\n",
    "y_pred = best_model.predict(x_1_valid_pca)\n",
    "test_preds = best_model.predict(x_1_test_pca)\n",
    "\n",
    "print(classification_report(Y1_valid, y_pred))"
   ]
  },
  {
   "cell_type": "code",
   "execution_count": 24,
   "id": "4ff6d8c3",
   "metadata": {},
   "outputs": [],
   "source": [
    "data_frame = pd.DataFrame(test_preds, columns=[\"label_1\"])\n",
    "data_frame.to_csv(f\"190110V_1.csv\",na_rep='')"
   ]
  },
  {
   "cell_type": "code",
   "execution_count": null,
   "id": "c607ab9e-025c-44ff-9645-84b6f8561d4f",
   "metadata": {},
   "outputs": [],
   "source": []
  }
 ],
 "metadata": {
  "kernelspec": {
   "display_name": "Python 3 (ipykernel)",
   "language": "python",
   "name": "python3"
  },
  "language_info": {
   "codemirror_mode": {
    "name": "ipython",
    "version": 3
   },
   "file_extension": ".py",
   "mimetype": "text/x-python",
   "name": "python",
   "nbconvert_exporter": "python",
   "pygments_lexer": "ipython3",
   "version": "3.11.4"
  }
 },
 "nbformat": 4,
 "nbformat_minor": 5
}
