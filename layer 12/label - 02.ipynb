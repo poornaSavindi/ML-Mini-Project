{
 "cells": [
  {
   "cell_type": "code",
   "execution_count": 4,
   "id": "ab77361d",
   "metadata": {},
   "outputs": [],
   "source": [
    "# import libraries\n",
    "import numpy as np\n",
    "import pandas as pd\n",
    "from sklearn.preprocessing import StandardScaler\n",
    "from sklearn.ensemble import RandomForestClassifier\n",
    "from sklearn.metrics import classification_report, mean_squared_error\n",
    "from sklearn.decomposition import PCA\n",
    "import matplotlib.pyplot as plt\n",
    "from sklearn.neighbors import KNeighborsClassifier\n",
    "from sklearn.svm import SVC\n",
    "from sklearn.model_selection import cross_val_score, KFold\n",
    "from sklearn.feature_selection import f_classif\n",
    "from sklearn.feature_selection import SelectKBest\n",
    "from sklearn.model_selection import GridSearchCV\n",
    "from sklearn.impute import SimpleImputer\n",
    "from sklearn.linear_model import LogisticRegression"
   ]
  },
  {
   "cell_type": "code",
   "execution_count": 5,
   "id": "c55b98d3",
   "metadata": {},
   "outputs": [],
   "source": [
    "# read the test and train data files\n",
    "train_df = pd.read_csv(\"train.csv\")\n",
    "valid_df = pd.read_csv(\"valid.csv\")\n",
    "test_df = pd.read_csv(\"test.csv\")"
   ]
  },
  {
   "cell_type": "code",
   "execution_count": 6,
   "id": "d27cd9ac",
   "metadata": {},
   "outputs": [],
   "source": [
    "train2_df = train_df.iloc[:,:-2]\n",
    "valid2_df = valid_df.iloc[:, :-2]\n",
    "test2_df = test_df.iloc[:, 1:]\n",
    "\n",
    "train2_df.drop(columns=[\"label_1\"], inplace=True)\n",
    "valid2_df.drop(columns=[\"label_1\"], inplace=True)\n",
    "\n",
    "# train2_df.dropna(inplace=True)\n",
    "# valid2_df.dropna(inplace=True)\n",
    "# test2_df.dropna(inplace=True)"
   ]
  },
  {
   "cell_type": "code",
   "execution_count": 7,
   "id": "f3c4ab77",
   "metadata": {},
   "outputs": [],
   "source": [
    "# splitting the test and train datasets into X and Y values\n",
    "X2_train= train2_df.iloc[:,0:-1].values\n",
    "Y2_train = train2_df.iloc[:,-1].values\n",
    "X2_valid = valid2_df.iloc[:,0:-1].values\n",
    "Y2_valid = valid2_df.iloc[:,-1].values\n",
    "X2_test = test2_df.iloc[:,:].values"
   ]
  },
  {
   "cell_type": "code",
   "execution_count": 8,
   "id": "fc73a5e1-f4c0-4993-a84e-5547519531d1",
   "metadata": {},
   "outputs": [],
   "source": [
    "imputer = SimpleImputer(missing_values=np.nan, strategy='mean')\n",
    "Y2_train = imputer.fit_transform(Y2_train.reshape(-1, 1)).flatten().astype(int)\n",
    "\n",
    "Y2_valid = imputer.fit_transform(Y2_valid.reshape(-1, 1)).flatten().astype(int)"
   ]
  },
  {
   "cell_type": "code",
   "execution_count": 9,
   "id": "83d16943",
   "metadata": {},
   "outputs": [],
   "source": [
    "# scalling and fitting data\n",
    "scaler = StandardScaler()\n",
    "scaler.fit(X2_train)\n",
    "\n",
    "X2_train = scaler.transform(X2_train)\n",
    "X2_valid = scaler.transform(X2_valid)\n",
    "X2_test = scaler.transform(X2_test)"
   ]
  },
  {
   "cell_type": "code",
   "execution_count": 13,
   "id": "efdba81b",
   "metadata": {},
   "outputs": [
    {
     "name": "stdout",
     "output_type": "stream",
     "text": [
      "Random Forest Cross-validation scores: [0.27173913 0.37429874 0.38253857 0.39586255 0.29470547]\n",
      "Random Forest Mean accuracy: 0.3438288920056101\n",
      "Random Forest Standard deviation: 0.050486427456468176\n",
      "\n",
      "\n",
      "K-Nearest Neighbors Cross-validation scores: [0.39270687 0.57328191 0.53804348 0.56206171 0.40638149]\n",
      "K-Nearest Neighbors Mean accuracy: 0.49449509116409535\n",
      "K-Nearest Neighbors Standard deviation: 0.07847792217501066\n",
      "\n",
      "\n",
      "Support Vector Machine Cross-validation scores: [0.40410238 0.55241935 0.55329593 0.58187237 0.42776999]\n",
      "Support Vector Machine Mean accuracy: 0.5038920056100983\n",
      "Support Vector Machine Standard deviation: 0.07297824237557048\n",
      "\n",
      "\n"
     ]
    },
    {
     "name": "stderr",
     "output_type": "stream",
     "text": [
      "/home/poorna/miniconda3/envs/lab/lib/python3.11/site-packages/sklearn/linear_model/_logistic.py:458: ConvergenceWarning: lbfgs failed to converge (status=1):\n",
      "STOP: TOTAL NO. of ITERATIONS REACHED LIMIT.\n",
      "\n",
      "Increase the number of iterations (max_iter) or scale the data as shown in:\n",
      "    https://scikit-learn.org/stable/modules/preprocessing.html\n",
      "Please also refer to the documentation for alternative solver options:\n",
      "    https://scikit-learn.org/stable/modules/linear_model.html#logistic-regression\n",
      "  n_iter_i = _check_optimize_result(\n",
      "/home/poorna/miniconda3/envs/lab/lib/python3.11/site-packages/sklearn/linear_model/_logistic.py:458: ConvergenceWarning: lbfgs failed to converge (status=1):\n",
      "STOP: TOTAL NO. of ITERATIONS REACHED LIMIT.\n",
      "\n",
      "Increase the number of iterations (max_iter) or scale the data as shown in:\n",
      "    https://scikit-learn.org/stable/modules/preprocessing.html\n",
      "Please also refer to the documentation for alternative solver options:\n",
      "    https://scikit-learn.org/stable/modules/linear_model.html#logistic-regression\n",
      "  n_iter_i = _check_optimize_result(\n",
      "/home/poorna/miniconda3/envs/lab/lib/python3.11/site-packages/sklearn/linear_model/_logistic.py:458: ConvergenceWarning: lbfgs failed to converge (status=1):\n",
      "STOP: TOTAL NO. of ITERATIONS REACHED LIMIT.\n",
      "\n",
      "Increase the number of iterations (max_iter) or scale the data as shown in:\n",
      "    https://scikit-learn.org/stable/modules/preprocessing.html\n",
      "Please also refer to the documentation for alternative solver options:\n",
      "    https://scikit-learn.org/stable/modules/linear_model.html#logistic-regression\n",
      "  n_iter_i = _check_optimize_result(\n",
      "/home/poorna/miniconda3/envs/lab/lib/python3.11/site-packages/sklearn/linear_model/_logistic.py:458: ConvergenceWarning: lbfgs failed to converge (status=1):\n",
      "STOP: TOTAL NO. of ITERATIONS REACHED LIMIT.\n",
      "\n",
      "Increase the number of iterations (max_iter) or scale the data as shown in:\n",
      "    https://scikit-learn.org/stable/modules/preprocessing.html\n",
      "Please also refer to the documentation for alternative solver options:\n",
      "    https://scikit-learn.org/stable/modules/linear_model.html#logistic-regression\n",
      "  n_iter_i = _check_optimize_result(\n"
     ]
    },
    {
     "name": "stdout",
     "output_type": "stream",
     "text": [
      "Logistic Regression Cross-validation scores: [0.36009818 0.49105891 0.48001403 0.5157784  0.38586957]\n",
      "Logistic Regression Mean accuracy: 0.4465638148667601\n",
      "Logistic Regression Standard deviation: 0.06172436663672169\n",
      "\n",
      "\n"
     ]
    },
    {
     "name": "stderr",
     "output_type": "stream",
     "text": [
      "/home/poorna/miniconda3/envs/lab/lib/python3.11/site-packages/sklearn/linear_model/_logistic.py:458: ConvergenceWarning: lbfgs failed to converge (status=1):\n",
      "STOP: TOTAL NO. of ITERATIONS REACHED LIMIT.\n",
      "\n",
      "Increase the number of iterations (max_iter) or scale the data as shown in:\n",
      "    https://scikit-learn.org/stable/modules/preprocessing.html\n",
      "Please also refer to the documentation for alternative solver options:\n",
      "    https://scikit-learn.org/stable/modules/linear_model.html#logistic-regression\n",
      "  n_iter_i = _check_optimize_result(\n"
     ]
    }
   ],
   "source": [
    "classifiers = [\n",
    "    (\"Random Forest\", RandomForestClassifier()),\n",
    "    (\"K-Nearest Neighbors\", KNeighborsClassifier()),\n",
    "    (\"Support Vector Machine\", SVC(kernel=\"linear\")),\n",
    "    (\"Logistic Regression\", LogisticRegression())\n",
    "]\n",
    "\n",
    "# Iterate over each classifier and perform cross-validation\n",
    "for clf_name, clf in classifiers:\n",
    "    cross_val_scores = cross_val_score(clf, X2_train, Y2_train, cv = 5)\n",
    "    \n",
    "    # Print the cross-validation scores for each classifier\n",
    "    print(f\"{clf_name} Cross-validation scores:\", cross_val_scores)\n",
    "    \n",
    "    # Calculate and print the mean and standard deviation of the scores\n",
    "    print(f\"{clf_name} Mean accuracy:\", cross_val_scores.mean())\n",
    "    print(f\"{clf_name} Standard deviation:\", cross_val_scores.std())\n",
    "    print(\"\\n\")"
   ]
  },
  {
   "cell_type": "code",
   "execution_count": 10,
   "id": "af953a92",
   "metadata": {},
   "outputs": [
    {
     "name": "stdout",
     "output_type": "stream",
     "text": [
      "              precision    recall  f1-score   support\n",
      "\n",
      "          22       0.08      0.42      0.13        36\n",
      "          23       0.27      0.04      0.07        71\n",
      "          24       0.17      0.09      0.11        46\n",
      "          25       0.00      0.00      0.00        79\n",
      "          26       0.38      0.04      0.08       115\n",
      "          27       0.26      0.22      0.24        81\n",
      "          28       0.11      0.25      0.15        60\n",
      "          29       0.00      0.00      0.00        45\n",
      "          30       0.00      0.00      0.00        48\n",
      "          31       0.00      0.00      0.00        65\n",
      "          32       0.08      0.45      0.14        11\n",
      "          33       0.14      0.27      0.19        30\n",
      "          34       0.09      0.18      0.12        11\n",
      "          35       0.67      0.18      0.29        11\n",
      "          36       0.03      0.62      0.06         8\n",
      "          41       0.20      0.07      0.11        14\n",
      "          61       1.00      0.11      0.19        19\n",
      "\n",
      "    accuracy                           0.11       750\n",
      "   macro avg       0.21      0.17      0.11       750\n",
      "weighted avg       0.18      0.11      0.09       750\n",
      "\n"
     ]
    },
    {
     "name": "stderr",
     "output_type": "stream",
     "text": [
      "/home/poorna/miniconda3/envs/lab/lib/python3.11/site-packages/sklearn/metrics/_classification.py:1344: UndefinedMetricWarning: Precision and F-score are ill-defined and being set to 0.0 in labels with no predicted samples. Use `zero_division` parameter to control this behavior.\n",
      "  _warn_prf(average, modifier, msg_start, len(result))\n",
      "/home/poorna/miniconda3/envs/lab/lib/python3.11/site-packages/sklearn/metrics/_classification.py:1344: UndefinedMetricWarning: Precision and F-score are ill-defined and being set to 0.0 in labels with no predicted samples. Use `zero_division` parameter to control this behavior.\n",
      "  _warn_prf(average, modifier, msg_start, len(result))\n",
      "/home/poorna/miniconda3/envs/lab/lib/python3.11/site-packages/sklearn/metrics/_classification.py:1344: UndefinedMetricWarning: Precision and F-score are ill-defined and being set to 0.0 in labels with no predicted samples. Use `zero_division` parameter to control this behavior.\n",
      "  _warn_prf(average, modifier, msg_start, len(result))\n"
     ]
    }
   ],
   "source": [
    "# Initialize and train a Support Vector Machine classifier\n",
    "model = SVC(kernel=\"linear\")\n",
    "model.fit(X2_train, Y2_train)\n",
    "\n",
    "# Make predictions on the test set\n",
    "y_pred = model.predict(X2_valid)\n",
    "\n",
    "print(classification_report(Y2_valid, y_pred))"
   ]
  },
  {
   "cell_type": "code",
   "execution_count": 11,
   "id": "09c5dd49-1767-4210-b1e3-312f2a0b75d0",
   "metadata": {},
   "outputs": [],
   "source": [
    "# Create a SelectKBest instance with a scoring function (e.g., chi-squared)\n",
    "selector = SelectKBest(score_func=f_classif, k=250)  # Select the top 2 features\n",
    "\n",
    "# Fit and transform your data to select the best k features\n",
    "X2_best_train = selector.fit_transform(X2_train, Y2_train)\n",
    "X2_best_valid = selector.transform(X2_valid)\n",
    "X2_best_test = selector.transform(X2_test)"
   ]
  },
  {
   "cell_type": "code",
   "execution_count": 12,
   "id": "25838686-ea5e-48c8-9733-d0db44c85808",
   "metadata": {},
   "outputs": [
    {
     "name": "stdout",
     "output_type": "stream",
     "text": [
      "              precision    recall  f1-score   support\n",
      "\n",
      "          22       0.06      0.69      0.10        36\n",
      "          23       0.00      0.00      0.00        71\n",
      "          24       0.00      0.00      0.00        46\n",
      "          25       0.00      0.00      0.00        79\n",
      "          26       0.25      0.04      0.07       115\n",
      "          27       0.00      0.00      0.00        81\n",
      "          28       0.00      0.00      0.00        60\n",
      "          29       0.00      0.00      0.00        45\n",
      "          30       0.00      0.00      0.00        48\n",
      "          31       0.07      0.02      0.03        65\n",
      "          32       0.04      0.18      0.06        11\n",
      "          33       0.00      0.00      0.00        30\n",
      "          34       0.05      0.82      0.09        11\n",
      "          35       0.42      0.45      0.43        11\n",
      "          36       0.00      0.00      0.00         8\n",
      "          41       0.00      0.00      0.00        14\n",
      "          61       1.00      0.05      0.10        19\n",
      "\n",
      "    accuracy                           0.06       750\n",
      "   macro avg       0.11      0.13      0.05       750\n",
      "weighted avg       0.08      0.06      0.03       750\n",
      "\n"
     ]
    },
    {
     "name": "stderr",
     "output_type": "stream",
     "text": [
      "/home/poorna/miniconda3/envs/lab/lib/python3.11/site-packages/sklearn/metrics/_classification.py:1344: UndefinedMetricWarning: Precision and F-score are ill-defined and being set to 0.0 in labels with no predicted samples. Use `zero_division` parameter to control this behavior.\n",
      "  _warn_prf(average, modifier, msg_start, len(result))\n",
      "/home/poorna/miniconda3/envs/lab/lib/python3.11/site-packages/sklearn/metrics/_classification.py:1344: UndefinedMetricWarning: Precision and F-score are ill-defined and being set to 0.0 in labels with no predicted samples. Use `zero_division` parameter to control this behavior.\n",
      "  _warn_prf(average, modifier, msg_start, len(result))\n",
      "/home/poorna/miniconda3/envs/lab/lib/python3.11/site-packages/sklearn/metrics/_classification.py:1344: UndefinedMetricWarning: Precision and F-score are ill-defined and being set to 0.0 in labels with no predicted samples. Use `zero_division` parameter to control this behavior.\n",
      "  _warn_prf(average, modifier, msg_start, len(result))\n"
     ]
    }
   ],
   "source": [
    "model.fit(X2_best_train, Y2_train)\n",
    "\n",
    "# Make predictions on the test set\n",
    "y_pred = model.predict(X2_best_valid)\n",
    "\n",
    "print(classification_report(Y2_valid, y_pred))"
   ]
  },
  {
   "cell_type": "code",
   "execution_count": 13,
   "id": "e80b6efc-e7c3-49af-8f10-bd33b59549a5",
   "metadata": {},
   "outputs": [],
   "source": [
    "pca=PCA(0.95)\n",
    "pca = pca.fit(X2_best_train)\n",
    "\n",
    "x_2_train_pca=pca.fit_transform(X2_best_train)\n",
    "x_2_valid_pca = pca.transform(X2_best_valid)\n",
    "x_2_test_pca = pca.transform(X2_best_test)"
   ]
  },
  {
   "cell_type": "code",
   "execution_count": 14,
   "id": "ff2fb508-bdf7-4972-b707-5b45d157abb0",
   "metadata": {},
   "outputs": [
    {
     "name": "stdout",
     "output_type": "stream",
     "text": [
      "              precision    recall  f1-score   support\n",
      "\n",
      "          22       0.11      0.28      0.15        36\n",
      "          23       0.50      0.03      0.05        71\n",
      "          24       0.13      0.22      0.16        46\n",
      "          25       0.33      0.01      0.02        79\n",
      "          26       0.00      0.00      0.00       115\n",
      "          27       0.00      0.00      0.00        81\n",
      "          28       0.11      0.53      0.18        60\n",
      "          29       0.25      0.02      0.04        45\n",
      "          30       0.00      0.00      0.00        48\n",
      "          31       0.00      0.00      0.00        65\n",
      "          32       0.11      0.82      0.19        11\n",
      "          33       0.00      0.00      0.00        30\n",
      "          34       0.07      0.64      0.13        11\n",
      "          35       0.12      0.55      0.19        11\n",
      "          36       0.25      0.12      0.17         8\n",
      "          41       0.00      0.00      0.00        14\n",
      "          61       0.00      0.00      0.00        19\n",
      "\n",
      "    accuracy                           0.11       750\n",
      "   macro avg       0.12      0.19      0.08       750\n",
      "weighted avg       0.13      0.11      0.05       750\n",
      "\n"
     ]
    },
    {
     "name": "stderr",
     "output_type": "stream",
     "text": [
      "/home/poorna/miniconda3/envs/lab/lib/python3.11/site-packages/sklearn/metrics/_classification.py:1344: UndefinedMetricWarning: Precision and F-score are ill-defined and being set to 0.0 in labels with no predicted samples. Use `zero_division` parameter to control this behavior.\n",
      "  _warn_prf(average, modifier, msg_start, len(result))\n",
      "/home/poorna/miniconda3/envs/lab/lib/python3.11/site-packages/sklearn/metrics/_classification.py:1344: UndefinedMetricWarning: Precision and F-score are ill-defined and being set to 0.0 in labels with no predicted samples. Use `zero_division` parameter to control this behavior.\n",
      "  _warn_prf(average, modifier, msg_start, len(result))\n",
      "/home/poorna/miniconda3/envs/lab/lib/python3.11/site-packages/sklearn/metrics/_classification.py:1344: UndefinedMetricWarning: Precision and F-score are ill-defined and being set to 0.0 in labels with no predicted samples. Use `zero_division` parameter to control this behavior.\n",
      "  _warn_prf(average, modifier, msg_start, len(result))\n"
     ]
    }
   ],
   "source": [
    "model.fit(x_2_train_pca, Y2_train)\n",
    "\n",
    "# Make predictions on the test set\n",
    "y_pred = model.predict(x_2_valid_pca)\n",
    "\n",
    "print(classification_report(Y2_valid, y_pred))"
   ]
  },
  {
   "cell_type": "code",
   "execution_count": 15,
   "id": "cce0d30e-2f04-4ada-97df-661a63927658",
   "metadata": {},
   "outputs": [
    {
     "data": {
      "text/plain": [
       "(28520, 114)"
      ]
     },
     "execution_count": 15,
     "metadata": {},
     "output_type": "execute_result"
    }
   ],
   "source": [
    "x_2_train_pca.shape"
   ]
  },
  {
   "cell_type": "code",
   "execution_count": 16,
   "id": "ae08b0a0-2af1-45a5-91dd-a1fcd6cb928b",
   "metadata": {},
   "outputs": [],
   "source": [
    "preds_before_tuning = model.predict(x_2_test_pca)"
   ]
  },
  {
   "cell_type": "code",
   "execution_count": 17,
   "id": "5c0d8218-496d-4f85-8c6d-d27f03179e3e",
   "metadata": {},
   "outputs": [
    {
     "name": "stdout",
     "output_type": "stream",
     "text": [
      "Fitting 5 folds for each of 9 candidates, totalling 45 fits\n",
      "Best Hyperparameters: {'C': 10, 'kernel': 'rbf'}\n",
      "Best Accuracy: 0.5422159887798036\n"
     ]
    }
   ],
   "source": [
    "param_grid = {\n",
    "    'C': [0.1, 1, 10],\n",
    "    'kernel': ['linear', 'rbf', 'poly'],\n",
    "}\n",
    "\n",
    "# Create a GridSearchCV object with cross-validation\n",
    "grid_search = GridSearchCV(model, param_grid, cv=5, scoring='accuracy', verbose=1, n_jobs=-1)\n",
    "\n",
    "# Fit the GridSearchCV object to the data to find the best hyperparameters\n",
    "grid_search.fit(x_2_train_pca, Y2_train)\n",
    "\n",
    "# Print the best hyperparameters and corresponding accuracy\n",
    "best_params = grid_search.best_params_\n",
    "best_accuracy = grid_search.best_score_\n",
    "print(\"Best Hyperparameters:\", best_params)\n",
    "print(\"Best Accuracy:\", best_accuracy)"
   ]
  },
  {
   "cell_type": "code",
   "execution_count": 18,
   "id": "2f76349e-faac-482e-8085-1a018a420422",
   "metadata": {},
   "outputs": [
    {
     "name": "stdout",
     "output_type": "stream",
     "text": [
      "              precision    recall  f1-score   support\n",
      "\n",
      "          22       0.00      0.00      0.00        36\n",
      "          23       0.00      0.00      0.00        71\n",
      "          24       0.00      0.00      0.00        46\n",
      "          25       0.00      0.00      0.00        79\n",
      "          26       0.00      0.00      0.00       115\n",
      "          27       0.11      1.00      0.19        81\n",
      "          28       0.00      0.00      0.00        60\n",
      "          29       0.00      0.00      0.00        45\n",
      "          30       0.00      0.00      0.00        48\n",
      "          31       0.00      0.00      0.00        65\n",
      "          32       0.00      0.00      0.00        11\n",
      "          33       0.00      0.00      0.00        30\n",
      "          34       0.00      0.00      0.00        11\n",
      "          35       0.00      0.00      0.00        11\n",
      "          36       0.00      0.00      0.00         8\n",
      "          41       0.00      0.00      0.00        14\n",
      "          61       0.00      0.00      0.00        19\n",
      "\n",
      "    accuracy                           0.11       750\n",
      "   macro avg       0.01      0.06      0.01       750\n",
      "weighted avg       0.01      0.11      0.02       750\n",
      "\n"
     ]
    },
    {
     "name": "stderr",
     "output_type": "stream",
     "text": [
      "/home/poorna/miniconda3/envs/lab/lib/python3.11/site-packages/sklearn/metrics/_classification.py:1344: UndefinedMetricWarning: Precision and F-score are ill-defined and being set to 0.0 in labels with no predicted samples. Use `zero_division` parameter to control this behavior.\n",
      "  _warn_prf(average, modifier, msg_start, len(result))\n",
      "/home/poorna/miniconda3/envs/lab/lib/python3.11/site-packages/sklearn/metrics/_classification.py:1344: UndefinedMetricWarning: Precision and F-score are ill-defined and being set to 0.0 in labels with no predicted samples. Use `zero_division` parameter to control this behavior.\n",
      "  _warn_prf(average, modifier, msg_start, len(result))\n",
      "/home/poorna/miniconda3/envs/lab/lib/python3.11/site-packages/sklearn/metrics/_classification.py:1344: UndefinedMetricWarning: Precision and F-score are ill-defined and being set to 0.0 in labels with no predicted samples. Use `zero_division` parameter to control this behavior.\n",
      "  _warn_prf(average, modifier, msg_start, len(result))\n"
     ]
    }
   ],
   "source": [
    "best_model = grid_search.best_estimator_\n",
    "y_pred = best_model.predict(x_2_valid_pca)\n",
    "test_preds = best_model.predict(x_2_test_pca)\n",
    "\n",
    "print(classification_report(Y2_valid, y_pred))"
   ]
  },
  {
   "cell_type": "code",
   "execution_count": 19,
   "id": "d91ce825-1c34-4c4d-82cf-407d41ee8102",
   "metadata": {},
   "outputs": [],
   "source": [
    "data_frame = pd.DataFrame(test_preds  , columns=[\"label_2\"])\n",
    "data_frame.to_csv(f\"190110V_2.csv\",na_rep='')"
   ]
  },
  {
   "cell_type": "code",
   "execution_count": null,
   "id": "28806c68-cb81-4442-9a66-8b67cf8107ee",
   "metadata": {},
   "outputs": [],
   "source": []
  }
 ],
 "metadata": {
  "kernelspec": {
   "display_name": "Python 3 (ipykernel)",
   "language": "python",
   "name": "python3"
  },
  "language_info": {
   "codemirror_mode": {
    "name": "ipython",
    "version": 3
   },
   "file_extension": ".py",
   "mimetype": "text/x-python",
   "name": "python",
   "nbconvert_exporter": "python",
   "pygments_lexer": "ipython3",
   "version": "3.11.4"
  }
 },
 "nbformat": 4,
 "nbformat_minor": 5
}
