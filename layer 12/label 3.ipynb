{
 "cells": [
  {
   "cell_type": "code",
   "execution_count": 1,
   "id": "620228e1",
   "metadata": {},
   "outputs": [],
   "source": [
    "# import libraries\n",
    "import numpy as np\n",
    "import pandas as pd\n",
    "from sklearn.preprocessing import StandardScaler\n",
    "from sklearn.ensemble import RandomForestClassifier\n",
    "from sklearn.metrics import classification_report, mean_squared_error\n",
    "from sklearn.decomposition import PCA\n",
    "import matplotlib.pyplot as plt\n",
    "from sklearn.neighbors import KNeighborsClassifier\n",
    "from sklearn.svm import SVC\n",
    "from sklearn.model_selection import cross_val_score, KFold\n",
    "from sklearn.feature_selection import f_classif\n",
    "from sklearn.feature_selection import SelectKBest\n",
    "from sklearn.model_selection import GridSearchCV"
   ]
  },
  {
   "cell_type": "code",
   "execution_count": 2,
   "id": "01fd9cee",
   "metadata": {},
   "outputs": [],
   "source": [
    "# read the test and train data files\n",
    "train_df = pd.read_csv(\"train.csv\")\n",
    "valid_df = pd.read_csv(\"valid.csv\")\n",
    "test_df = pd.read_csv(\"test.csv\")"
   ]
  },
  {
   "cell_type": "markdown",
   "id": "a37020cc",
   "metadata": {},
   "source": [
    "label 03"
   ]
  },
  {
   "cell_type": "code",
   "execution_count": 4,
   "id": "244f3434",
   "metadata": {},
   "outputs": [],
   "source": [
    "train3_df = train_df.iloc[:,:-1]\n",
    "valid3_df = valid_df.iloc[:, :-1]\n",
    "test3_df = test_df.iloc[:, 1:]"
   ]
  },
  {
   "cell_type": "code",
   "execution_count": 5,
   "id": "015dc806",
   "metadata": {},
   "outputs": [],
   "source": [
    "train3_df.drop(columns=[\"label_1\", \"label_2\"], inplace=True)\n",
    "valid3_df.drop(columns=[\"label_1\", \"label_2\"], inplace=True)"
   ]
  },
  {
   "cell_type": "code",
   "execution_count": 6,
   "id": "241ad248",
   "metadata": {},
   "outputs": [],
   "source": [
    "train3_df.dropna(inplace=True)\n",
    "valid3_df.dropna(inplace=True)\n",
    "test3_df.dropna(inplace=True)"
   ]
  },
  {
   "cell_type": "code",
   "execution_count": 7,
   "id": "04377993",
   "metadata": {},
   "outputs": [],
   "source": [
    "# splitting the test and train datasets into X and Y values\n",
    "X3_train= train3_df.iloc[:,0:-1].values\n",
    "Y3_train = train3_df.iloc[:,-1].values\n",
    "X3_valid = valid3_df.iloc[:,0:-1].values\n",
    "Y3_valid = valid3_df.iloc[:,-1].values\n",
    "X3_test = test3_df.iloc[:,:].values"
   ]
  },
  {
   "cell_type": "code",
   "execution_count": 8,
   "id": "b0fe5d02",
   "metadata": {},
   "outputs": [],
   "source": [
    "# scalling and fitting data\n",
    "scaler = StandardScaler()\n",
    "scaler.fit(X3_train)\n",
    "\n",
    "X3_train = scaler.transform(X3_train)\n",
    "X3_valid = scaler.transform(X3_valid)\n",
    "X3_test = scaler.transform(X3_test)"
   ]
  },
  {
   "cell_type": "code",
   "execution_count": 9,
   "id": "99d1d444",
   "metadata": {},
   "outputs": [
    {
     "name": "stdout",
     "output_type": "stream",
     "text": [
      "Random Forest Cross-validation scores: [0.92058205 0.93513324 0.88955119 0.85010519 0.90392707]\n",
      "Random Forest Mean accuracy: 0.8998597475455821\n",
      "Random Forest Standard deviation: 0.02922997933392393\n",
      "\n",
      "\n",
      "K-Nearest Neighbors Cross-validation scores: [0.92426367 0.94495091 0.92128331 0.89779102 0.9335554 ]\n",
      "K-Nearest Neighbors Mean accuracy: 0.9243688639551193\n",
      "K-Nearest Neighbors Standard deviation: 0.01564561548542544\n",
      "\n",
      "\n",
      "Support Vector Machine Cross-validation scores: [0.97124825 0.98755259 0.98229313 0.98141655 0.99105891]\n",
      "Support Vector Machine Mean accuracy: 0.9827138849929874\n",
      "Support Vector Machine Standard deviation: 0.006728647130138732\n",
      "\n",
      "\n"
     ]
    }
   ],
   "source": [
    "classifiers = [\n",
    "    (\"Random Forest\", RandomForestClassifier()),\n",
    "    (\"K-Nearest Neighbors\", KNeighborsClassifier(n_neighbors=5)),\n",
    "    (\"Support Vector Machine\", SVC(kernel=\"linear\"))\n",
    "]\n",
    "\n",
    "\n",
    "# Iterate over each classifier and perform cross-validation\n",
    "for clf_name, clf in classifiers:\n",
    "    cross_val_scores = cross_val_score(clf, X3_train, Y3_train, cv=5)\n",
    "    \n",
    "    # Print the cross-validation scores for each classifier\n",
    "    print(f\"{clf_name} Cross-validation scores:\", cross_val_scores)\n",
    "    \n",
    "    # Calculate and print the mean and standard deviation of the scores\n",
    "    print(f\"{clf_name} Mean accuracy:\", cross_val_scores.mean())\n",
    "    print(f\"{clf_name} Standard deviation:\", cross_val_scores.std())\n",
    "    print(\"\\n\")"
   ]
  },
  {
   "cell_type": "code",
   "execution_count": 10,
   "id": "845b430a",
   "metadata": {},
   "outputs": [
    {
     "data": {
      "text/plain": [
       "<Axes: title={'center': 'Imbalanced data'}, xlabel='label_3'>"
      ]
     },
     "execution_count": 10,
     "metadata": {},
     "output_type": "execute_result"
    },
    {
     "data": {
      "image/png": "[encoded data removed]",
      "text/plain": [
       "<Figure size 640x480 with 1 Axes>"
      ]
     },
     "metadata": {},
     "output_type": "display_data"
    }
   ],
   "source": [
    "train3_df['label_3'].value_counts().plot(kind='bar',title='Imbalanced data')"
   ]
  },
  {
   "cell_type": "code",
   "execution_count": 11,
   "id": "848e5943",
   "metadata": {},
   "outputs": [
    {
     "name": "stdout",
     "output_type": "stream",
     "text": [
      "Requirement already satisfied: imbalanced-learn in /home/poorna/miniconda3/envs/lab/lib/python3.11/site-packages (0.11.0)\n",
      "Requirement already satisfied: numpy>=1.17.3 in /home/poorna/miniconda3/envs/lab/lib/python3.11/site-packages (from imbalanced-learn) (1.25.2)\n",
      "Requirement already satisfied: scipy>=1.5.0 in /home/poorna/miniconda3/envs/lab/lib/python3.11/site-packages (from imbalanced-learn) (1.11.1)\n",
      "Requirement already satisfied: scikit-learn>=1.0.2 in /home/poorna/miniconda3/envs/lab/lib/python3.11/site-packages (from imbalanced-learn) (1.2.2)\n",
      "Requirement already satisfied: joblib>=1.1.1 in /home/poorna/miniconda3/envs/lab/lib/python3.11/site-packages (from imbalanced-learn) (1.3.2)\n",
      "Requirement already satisfied: threadpoolctl>=2.0.0 in /home/poorna/miniconda3/envs/lab/lib/python3.11/site-packages (from imbalanced-learn) (3.2.0)\n",
      "Note: you may need to restart the kernel to use updated packages.\n"
     ]
    }
   ],
   "source": [
    "pip install imbalanced-learn"
   ]
  },
  {
   "cell_type": "code",
   "execution_count": 12,
   "id": "ea9ffd1d",
   "metadata": {},
   "outputs": [],
   "source": [
    "# resampling the data\n",
    "from imblearn.combine import SMOTETomek\n",
    "\n",
    "resampler = SMOTETomek(random_state=0)\n",
    "X3_train, Y3_train = resampler.fit_resample(X3_train, Y3_train)"
   ]
  },
  {
   "cell_type": "code",
   "execution_count": 22,
   "id": "1193c60c",
   "metadata": {},
   "outputs": [
    {
     "name": "stdout",
     "output_type": "stream",
     "text": [
      "              precision    recall  f1-score   support\n",
      "\n",
      "           0       0.00      0.00      0.00       142\n",
      "           1       0.81      1.00      0.90       608\n",
      "\n",
      "    accuracy                           0.81       750\n",
      "   macro avg       0.41      0.50      0.45       750\n",
      "weighted avg       0.66      0.81      0.73       750\n",
      "\n"
     ]
    },
    {
     "name": "stderr",
     "output_type": "stream",
     "text": [
      "/home/poorna/miniconda3/envs/lab/lib/python3.11/site-packages/sklearn/metrics/_classification.py:1344: UndefinedMetricWarning: Precision and F-score are ill-defined and being set to 0.0 in labels with no predicted samples. Use `zero_division` parameter to control this behavior.\n",
      "  _warn_prf(average, modifier, msg_start, len(result))\n",
      "/home/poorna/miniconda3/envs/lab/lib/python3.11/site-packages/sklearn/metrics/_classification.py:1344: UndefinedMetricWarning: Precision and F-score are ill-defined and being set to 0.0 in labels with no predicted samples. Use `zero_division` parameter to control this behavior.\n",
      "  _warn_prf(average, modifier, msg_start, len(result))\n",
      "/home/poorna/miniconda3/envs/lab/lib/python3.11/site-packages/sklearn/metrics/_classification.py:1344: UndefinedMetricWarning: Precision and F-score are ill-defined and being set to 0.0 in labels with no predicted samples. Use `zero_division` parameter to control this behavior.\n",
      "  _warn_prf(average, modifier, msg_start, len(result))\n"
     ]
    }
   ],
   "source": [
    "# Initialize and train a Support Vector Machine classifier\n",
    "svm_classifier = SVC()\n",
    "svm_classifier.fit(X3_train, Y3_train)\n",
    "\n",
    "# Make predictions on the test set\n",
    "y_pred = svm_classifier.predict(X3_valid)\n",
    "\n",
    "print(classification_report(Y3_valid, y_pred))"
   ]
  },
  {
   "cell_type": "code",
   "execution_count": 23,
   "id": "f497a7db",
   "metadata": {},
   "outputs": [],
   "source": [
    "# Create a SelectKBest instance with a scoring function (e.g., chi-squared)\n",
    "selector = SelectKBest(score_func=f_classif, k=250)  # Select the top 2 features\n",
    "\n",
    "# Fit and transform your data to select the best k features\n",
    "X3_best_train = selector.fit_transform(X3_train, Y3_train)\n",
    "X3_best_valid = selector.transform(X3_valid)\n",
    "X3_best_test = selector.transform(X3_test)"
   ]
  },
  {
   "cell_type": "code",
   "execution_count": 24,
   "id": "7705381d",
   "metadata": {},
   "outputs": [
    {
     "name": "stdout",
     "output_type": "stream",
     "text": [
      "              precision    recall  f1-score   support\n",
      "\n",
      "           0       0.00      0.00      0.00       142\n",
      "           1       0.81      1.00      0.90       608\n",
      "\n",
      "    accuracy                           0.81       750\n",
      "   macro avg       0.41      0.50      0.45       750\n",
      "weighted avg       0.66      0.81      0.73       750\n",
      "\n"
     ]
    },
    {
     "name": "stderr",
     "output_type": "stream",
     "text": [
      "/home/poorna/miniconda3/envs/lab/lib/python3.11/site-packages/sklearn/metrics/_classification.py:1344: UndefinedMetricWarning: Precision and F-score are ill-defined and being set to 0.0 in labels with no predicted samples. Use `zero_division` parameter to control this behavior.\n",
      "  _warn_prf(average, modifier, msg_start, len(result))\n",
      "/home/poorna/miniconda3/envs/lab/lib/python3.11/site-packages/sklearn/metrics/_classification.py:1344: UndefinedMetricWarning: Precision and F-score are ill-defined and being set to 0.0 in labels with no predicted samples. Use `zero_division` parameter to control this behavior.\n",
      "  _warn_prf(average, modifier, msg_start, len(result))\n",
      "/home/poorna/miniconda3/envs/lab/lib/python3.11/site-packages/sklearn/metrics/_classification.py:1344: UndefinedMetricWarning: Precision and F-score are ill-defined and being set to 0.0 in labels with no predicted samples. Use `zero_division` parameter to control this behavior.\n",
      "  _warn_prf(average, modifier, msg_start, len(result))\n"
     ]
    }
   ],
   "source": [
    "svm_classifier.fit(X3_best_train, Y3_train)\n",
    "\n",
    "# Make predictions on the test set\n",
    "y_pred = svm_classifier.predict(X3_best_valid)\n",
    "\n",
    "print(classification_report(Y3_valid, y_pred))"
   ]
  },
  {
   "cell_type": "code",
   "execution_count": 25,
   "id": "ceee5779",
   "metadata": {},
   "outputs": [],
   "source": [
    "pca=PCA(0.9)\n",
    "pca = pca.fit(X3_best_train)\n",
    "\n",
    "x3_train_pca=pca.fit_transform(X3_best_train)\n",
    "x3_valid_pca = pca.transform(X3_best_valid)\n",
    "x3_test_pca = pca.transform(X3_best_test)"
   ]
  },
  {
   "cell_type": "code",
   "execution_count": 26,
   "id": "2cc000e5",
   "metadata": {},
   "outputs": [
    {
     "name": "stdout",
     "output_type": "stream",
     "text": [
      "              precision    recall  f1-score   support\n",
      "\n",
      "           0       0.00      0.00      0.00       142\n",
      "           1       0.81      1.00      0.90       608\n",
      "\n",
      "    accuracy                           0.81       750\n",
      "   macro avg       0.41      0.50      0.45       750\n",
      "weighted avg       0.66      0.81      0.73       750\n",
      "\n"
     ]
    },
    {
     "name": "stderr",
     "output_type": "stream",
     "text": [
      "/home/poorna/miniconda3/envs/lab/lib/python3.11/site-packages/sklearn/metrics/_classification.py:1344: UndefinedMetricWarning: Precision and F-score are ill-defined and being set to 0.0 in labels with no predicted samples. Use `zero_division` parameter to control this behavior.\n",
      "  _warn_prf(average, modifier, msg_start, len(result))\n",
      "/home/poorna/miniconda3/envs/lab/lib/python3.11/site-packages/sklearn/metrics/_classification.py:1344: UndefinedMetricWarning: Precision and F-score are ill-defined and being set to 0.0 in labels with no predicted samples. Use `zero_division` parameter to control this behavior.\n",
      "  _warn_prf(average, modifier, msg_start, len(result))\n",
      "/home/poorna/miniconda3/envs/lab/lib/python3.11/site-packages/sklearn/metrics/_classification.py:1344: UndefinedMetricWarning: Precision and F-score are ill-defined and being set to 0.0 in labels with no predicted samples. Use `zero_division` parameter to control this behavior.\n",
      "  _warn_prf(average, modifier, msg_start, len(result))\n"
     ]
    }
   ],
   "source": [
    "svm_classifier.fit(x3_train_pca, Y3_train)\n",
    "\n",
    "# Make predictions on the test set\n",
    "y_pred = svm_classifier.predict(x3_valid_pca)\n",
    "\n",
    "print(classification_report(Y3_valid, y_pred))"
   ]
  },
  {
   "cell_type": "code",
   "execution_count": 27,
   "id": "bfca87b1",
   "metadata": {},
   "outputs": [
    {
     "data": {
      "text/plain": [
       "(45592, 60)"
      ]
     },
     "execution_count": 27,
     "metadata": {},
     "output_type": "execute_result"
    }
   ],
   "source": [
    "x3_train_pca.shape"
   ]
  },
  {
   "cell_type": "code",
   "execution_count": 28,
   "id": "9da4e703",
   "metadata": {},
   "outputs": [
    {
     "name": "stdout",
     "output_type": "stream",
     "text": [
      "Fitting 5 folds for each of 9 candidates, totalling 45 fits\n",
      "Best Hyperparameters: {'C': 10, 'kernel': 'rbf'}\n",
      "Best Accuracy: 0.9920381966203922\n"
     ]
    }
   ],
   "source": [
    "param_grid = {\n",
    "    'C': [0.1, 1, 10],\n",
    "    'kernel': ['linear', 'rbf', 'poly'],\n",
    "}\n",
    "\n",
    "# Create a GridSearchCV object with cross-validation\n",
    "grid_search = GridSearchCV(svm_classifier, param_grid, cv=5, scoring='accuracy', verbose=1, n_jobs=-1)\n",
    "\n",
    "# Fit the GridSearchCV object to the data to find the best hyperparameters\n",
    "grid_search.fit(x3_train_pca, Y3_train)\n",
    "\n",
    "# Print the best hyperparameters and corresponding accuracy\n",
    "best_params = grid_search.best_params_\n",
    "best_accuracy = grid_search.best_score_\n",
    "print(\"Best Hyperparameters:\", best_params)\n",
    "print(\"Best Accuracy:\", best_accuracy)"
   ]
  },
  {
   "cell_type": "code",
   "execution_count": 29,
   "id": "f54b91d5",
   "metadata": {},
   "outputs": [
    {
     "name": "stdout",
     "output_type": "stream",
     "text": [
      "              precision    recall  f1-score   support\n",
      "\n",
      "           0       0.00      0.00      0.00       142\n",
      "           1       0.81      1.00      0.90       608\n",
      "\n",
      "    accuracy                           0.81       750\n",
      "   macro avg       0.41      0.50      0.45       750\n",
      "weighted avg       0.66      0.81      0.73       750\n",
      "\n"
     ]
    },
    {
     "name": "stderr",
     "output_type": "stream",
     "text": [
      "/home/poorna/miniconda3/envs/lab/lib/python3.11/site-packages/sklearn/metrics/_classification.py:1344: UndefinedMetricWarning: Precision and F-score are ill-defined and being set to 0.0 in labels with no predicted samples. Use `zero_division` parameter to control this behavior.\n",
      "  _warn_prf(average, modifier, msg_start, len(result))\n",
      "/home/poorna/miniconda3/envs/lab/lib/python3.11/site-packages/sklearn/metrics/_classification.py:1344: UndefinedMetricWarning: Precision and F-score are ill-defined and being set to 0.0 in labels with no predicted samples. Use `zero_division` parameter to control this behavior.\n",
      "  _warn_prf(average, modifier, msg_start, len(result))\n",
      "/home/poorna/miniconda3/envs/lab/lib/python3.11/site-packages/sklearn/metrics/_classification.py:1344: UndefinedMetricWarning: Precision and F-score are ill-defined and being set to 0.0 in labels with no predicted samples. Use `zero_division` parameter to control this behavior.\n",
      "  _warn_prf(average, modifier, msg_start, len(result))\n"
     ]
    }
   ],
   "source": [
    "best_model = grid_search.best_estimator_\n",
    "y_pred = best_model.predict(x3_valid_pca)\n",
    "test_preds = best_model.predict(x3_test_pca)\n",
    "\n",
    "print(classification_report(Y3_valid, y_pred))"
   ]
  },
  {
   "cell_type": "code",
   "execution_count": 30,
   "id": "4ff6d8c3",
   "metadata": {},
   "outputs": [],
   "source": [
    "data_frame = pd.DataFrame(test_preds, columns=[\"label_3\"])\n",
    "data_frame.to_csv(f\"190110V_3.csv\",na_rep='')"
   ]
  },
  {
   "cell_type": "code",
   "execution_count": null,
   "id": "215ccf1b-3a14-46a0-8f93-9e8bb46f750c",
   "metadata": {},
   "outputs": [],
   "source": []
  }
 ],
 "metadata": {
  "kernelspec": {
   "display_name": "Python 3 (ipykernel)",
   "language": "python",
   "name": "python3"
  },
  "language_info": {
   "codemirror_mode": {
    "name": "ipython",
    "version": 3
   },
   "file_extension": ".py",
   "mimetype": "text/x-python",
   "name": "python",
   "nbconvert_exporter": "python",
   "pygments_lexer": "ipython3",
   "version": "3.11.4"
  }
 },
 "nbformat": 4,
 "nbformat_minor": 5
}
