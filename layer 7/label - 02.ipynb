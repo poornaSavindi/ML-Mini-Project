{
 "cells": [
  {
   "cell_type": "code",
   "execution_count": 7,
   "id": "ab77361d",
   "metadata": {},
   "outputs": [],
   "source": [
    "# import libraries\n",
    "import numpy as np\n",
    "import pandas as pd\n",
    "from sklearn.preprocessing import StandardScaler\n",
    "from sklearn.ensemble import RandomForestClassifier\n",
    "from sklearn.metrics import classification_report, mean_squared_error\n",
    "from sklearn.decomposition import PCA\n",
    "import matplotlib.pyplot as plt\n",
    "from sklearn.neighbors import KNeighborsClassifier\n",
    "from sklearn.svm import SVC\n",
    "from sklearn.model_selection import cross_val_score, KFold\n",
    "from sklearn.feature_selection import f_classif\n",
    "from sklearn.feature_selection import SelectKBest\n",
    "from sklearn.model_selection import GridSearchCV\n",
    "from sklearn.impute import SimpleImputer\n",
    "from sklearn.linear_model import LogisticRegression"
   ]
  },
  {
   "cell_type": "code",
   "execution_count": 8,
   "id": "c55b98d3",
   "metadata": {},
   "outputs": [],
   "source": [
    "# read the test and train data files\n",
    "train_df = pd.read_csv(\"train.csv\")\n",
    "valid_df = pd.read_csv(\"valid.csv\")\n",
    "test_df = pd.read_csv(\"test.csv\")"
   ]
  },
  {
   "cell_type": "code",
   "execution_count": 9,
   "id": "d27cd9ac",
   "metadata": {},
   "outputs": [],
   "source": [
    "train2_df = train_df.iloc[:,:-2]\n",
    "valid2_df = valid_df.iloc[:, :-2]\n",
    "test2_df = test_df.iloc[:, 1:]\n",
    "\n",
    "train2_df.drop(columns=[\"label_1\"], inplace=True)\n",
    "valid2_df.drop(columns=[\"label_1\"], inplace=True)\n",
    "\n",
    "train2_df.dropna(inplace=True)\n",
    "valid2_df.dropna(inplace=True)\n",
    "test2_df.dropna(inplace=True)"
   ]
  },
  {
   "cell_type": "code",
   "execution_count": 10,
   "id": "f3c4ab77",
   "metadata": {},
   "outputs": [],
   "source": [
    "# splitting the test and train datasets into X and Y values\n",
    "X2_train= train2_df.iloc[:,0:-1].values\n",
    "Y2_train = train2_df.iloc[:,-1].values\n",
    "X2_valid = valid2_df.iloc[:,0:-1].values\n",
    "Y2_valid = valid2_df.iloc[:,-1].values\n",
    "X2_test = test2_df.iloc[:,:].values"
   ]
  },
  {
   "cell_type": "code",
   "execution_count": 11,
   "id": "83d16943",
   "metadata": {},
   "outputs": [],
   "source": [
    "# scalling and fitting data\n",
    "scaler = StandardScaler()\n",
    "scaler.fit(X2_train)\n",
    "\n",
    "X2_train = scaler.transform(X2_train)\n",
    "X2_valid = scaler.transform(X2_valid)\n",
    "X2_test = scaler.transform(X2_test)"
   ]
  },
  {
   "cell_type": "code",
   "execution_count": 12,
   "id": "efdba81b",
   "metadata": {},
   "outputs": [
    {
     "name": "stdout",
     "output_type": "stream",
     "text": [
      "Random Forest Cross-validation scores: [0.28601997 0.45666904 0.46398003 0.47396576 0.33898003]\n",
      "Random Forest Mean accuracy: 0.403922967189729\n",
      "Random Forest Standard deviation: 0.07669901461306591\n",
      "\n",
      "\n",
      "K-Nearest Neighbors Cross-validation scores: [0.37642653 0.6196505  0.63855207 0.63659058 0.44276034]\n",
      "K-Nearest Neighbors Mean accuracy: 0.5427960057061341\n",
      "K-Nearest Neighbors Standard deviation: 0.11095872659347993\n",
      "\n",
      "\n",
      "Support Vector Machine Cross-validation scores: [0.3921184  0.54119116 0.60271041 0.60805991 0.41868759]\n",
      "Support Vector Machine Mean accuracy: 0.5125534950071325\n",
      "Support Vector Machine Standard deviation: 0.09097832881789328\n",
      "\n",
      "\n"
     ]
    },
    {
     "name": "stderr",
     "output_type": "stream",
     "text": [
      "/home/poorna/miniconda3/envs/lab/lib/python3.11/site-packages/sklearn/linear_model/_logistic.py:458: ConvergenceWarning: lbfgs failed to converge (status=1):\n",
      "STOP: TOTAL NO. of ITERATIONS REACHED LIMIT.\n",
      "\n",
      "Increase the number of iterations (max_iter) or scale the data as shown in:\n",
      "    https://scikit-learn.org/stable/modules/preprocessing.html\n",
      "Please also refer to the documentation for alternative solver options:\n",
      "    https://scikit-learn.org/stable/modules/linear_model.html#logistic-regression\n",
      "  n_iter_i = _check_optimize_result(\n",
      "/home/poorna/miniconda3/envs/lab/lib/python3.11/site-packages/sklearn/linear_model/_logistic.py:458: ConvergenceWarning: lbfgs failed to converge (status=1):\n",
      "STOP: TOTAL NO. of ITERATIONS REACHED LIMIT.\n",
      "\n",
      "Increase the number of iterations (max_iter) or scale the data as shown in:\n",
      "    https://scikit-learn.org/stable/modules/preprocessing.html\n",
      "Please also refer to the documentation for alternative solver options:\n",
      "    https://scikit-learn.org/stable/modules/linear_model.html#logistic-regression\n",
      "  n_iter_i = _check_optimize_result(\n",
      "/home/poorna/miniconda3/envs/lab/lib/python3.11/site-packages/sklearn/linear_model/_logistic.py:458: ConvergenceWarning: lbfgs failed to converge (status=1):\n",
      "STOP: TOTAL NO. of ITERATIONS REACHED LIMIT.\n",
      "\n",
      "Increase the number of iterations (max_iter) or scale the data as shown in:\n",
      "    https://scikit-learn.org/stable/modules/preprocessing.html\n",
      "Please also refer to the documentation for alternative solver options:\n",
      "    https://scikit-learn.org/stable/modules/linear_model.html#logistic-regression\n",
      "  n_iter_i = _check_optimize_result(\n",
      "/home/poorna/miniconda3/envs/lab/lib/python3.11/site-packages/sklearn/linear_model/_logistic.py:458: ConvergenceWarning: lbfgs failed to converge (status=1):\n",
      "STOP: TOTAL NO. of ITERATIONS REACHED LIMIT.\n",
      "\n",
      "Increase the number of iterations (max_iter) or scale the data as shown in:\n",
      "    https://scikit-learn.org/stable/modules/preprocessing.html\n",
      "Please also refer to the documentation for alternative solver options:\n",
      "    https://scikit-learn.org/stable/modules/linear_model.html#logistic-regression\n",
      "  n_iter_i = _check_optimize_result(\n"
     ]
    },
    {
     "name": "stdout",
     "output_type": "stream",
     "text": [
      "Logistic Regression Cross-validation scores: [0.38498573 0.532097   0.57203994 0.56455064 0.41119829]\n",
      "Logistic Regression Mean accuracy: 0.49297432239657635\n",
      "Logistic Regression Standard deviation: 0.07906197691005419\n",
      "\n",
      "\n"
     ]
    },
    {
     "name": "stderr",
     "output_type": "stream",
     "text": [
      "/home/poorna/miniconda3/envs/lab/lib/python3.11/site-packages/sklearn/linear_model/_logistic.py:458: ConvergenceWarning: lbfgs failed to converge (status=1):\n",
      "STOP: TOTAL NO. of ITERATIONS REACHED LIMIT.\n",
      "\n",
      "Increase the number of iterations (max_iter) or scale the data as shown in:\n",
      "    https://scikit-learn.org/stable/modules/preprocessing.html\n",
      "Please also refer to the documentation for alternative solver options:\n",
      "    https://scikit-learn.org/stable/modules/linear_model.html#logistic-regression\n",
      "  n_iter_i = _check_optimize_result(\n"
     ]
    }
   ],
   "source": [
    "classifiers = [\n",
    "    (\"Random Forest\", RandomForestClassifier()),\n",
    "    (\"K-Nearest Neighbors\", KNeighborsClassifier(n_neighbors=5)),\n",
    "    (\"Support Vector Machine\", SVC(kernel=\"linear\")),\n",
    "    (\"Logistic Regression\", LogisticRegression())\n",
    "]\n",
    "\n",
    "# Iterate over each classifier and perform cross-validation\n",
    "for clf_name, clf in classifiers:\n",
    "    cross_val_scores = cross_val_score(clf, X2_train, Y2_train, cv = 5)\n",
    "    \n",
    "    # Print the cross-validation scores for each classifier\n",
    "    print(f\"{clf_name} Cross-validation scores:\", cross_val_scores)\n",
    "    \n",
    "    # Calculate and print the mean and standard deviation of the scores\n",
    "    print(f\"{clf_name} Mean accuracy:\", cross_val_scores.mean())\n",
    "    print(f\"{clf_name} Standard deviation:\", cross_val_scores.std())\n",
    "    print(\"\\n\")"
   ]
  },
  {
   "cell_type": "code",
   "execution_count": 14,
   "id": "af953a92",
   "metadata": {},
   "outputs": [
    {
     "name": "stdout",
     "output_type": "stream",
     "text": [
      "              precision    recall  f1-score   support\n",
      "\n",
      "        22.0       0.73      0.83      0.78        36\n",
      "        23.0       0.77      0.85      0.81        71\n",
      "        24.0       0.80      0.85      0.82        46\n",
      "        25.0       0.90      0.81      0.85        79\n",
      "        26.0       0.78      0.94      0.85       115\n",
      "        27.0       0.90      0.86      0.88        81\n",
      "        28.0       0.91      0.89      0.90        46\n",
      "        29.0       0.95      0.89      0.92        45\n",
      "        30.0       0.95      0.77      0.85        48\n",
      "        31.0       0.94      0.89      0.91        65\n",
      "        32.0       0.91      0.91      0.91        11\n",
      "        33.0       0.93      0.90      0.92        30\n",
      "        34.0       1.00      0.73      0.84        11\n",
      "        35.0       1.00      0.82      0.90        11\n",
      "        36.0       0.80      1.00      0.89         8\n",
      "        41.0       0.90      0.64      0.75        14\n",
      "        61.0       1.00      0.84      0.91        19\n",
      "\n",
      "    accuracy                           0.86       736\n",
      "   macro avg       0.89      0.85      0.86       736\n",
      "weighted avg       0.87      0.86      0.86       736\n",
      "\n"
     ]
    }
   ],
   "source": [
    "# Initialize and train a Support Vector Machine classifier\n",
    "model = KNeighborsClassifier()\n",
    "model.fit(X2_train, Y2_train)\n",
    "\n",
    "# Make predictions on the test set\n",
    "y_pred = model.predict(X2_valid)\n",
    "\n",
    "print(classification_report(Y2_valid, y_pred))"
   ]
  },
  {
   "cell_type": "code",
   "execution_count": 15,
   "id": "09c5dd49-1767-4210-b1e3-312f2a0b75d0",
   "metadata": {},
   "outputs": [],
   "source": [
    "# Create a SelectKBest instance with a scoring function (e.g., chi-squared)\n",
    "selector = SelectKBest(score_func=f_classif, k=250)  # Select the top 2 features\n",
    "\n",
    "# Fit and transform your data to select the best k features\n",
    "X2_best_train = selector.fit_transform(X2_train, Y2_train)\n",
    "X2_best_valid = selector.transform(X2_valid)\n",
    "X2_best_test = selector.transform(X2_test)"
   ]
  },
  {
   "cell_type": "code",
   "execution_count": 17,
   "id": "25838686-ea5e-48c8-9733-d0db44c85808",
   "metadata": {},
   "outputs": [
    {
     "name": "stdout",
     "output_type": "stream",
     "text": [
      "              precision    recall  f1-score   support\n",
      "\n",
      "        22.0       0.78      0.86      0.82        36\n",
      "        23.0       0.80      0.89      0.84        71\n",
      "        24.0       0.83      0.87      0.85        46\n",
      "        25.0       0.94      0.85      0.89        79\n",
      "        26.0       0.82      0.97      0.89       115\n",
      "        27.0       0.93      0.86      0.90        81\n",
      "        28.0       0.96      0.93      0.95        46\n",
      "        29.0       0.95      0.89      0.92        45\n",
      "        30.0       0.97      0.81      0.89        48\n",
      "        31.0       0.95      0.91      0.93        65\n",
      "        32.0       0.91      0.91      0.91        11\n",
      "        33.0       0.88      0.93      0.90        30\n",
      "        34.0       1.00      0.91      0.95        11\n",
      "        35.0       1.00      0.91      0.95        11\n",
      "        36.0       1.00      1.00      1.00         8\n",
      "        41.0       1.00      0.64      0.78        14\n",
      "        61.0       1.00      0.95      0.97        19\n",
      "\n",
      "    accuracy                           0.89       736\n",
      "   macro avg       0.92      0.89      0.90       736\n",
      "weighted avg       0.90      0.89      0.89       736\n",
      "\n"
     ]
    }
   ],
   "source": [
    "model.fit(X2_best_train, Y2_train)\n",
    "\n",
    "# Make predictions on the test set\n",
    "y_pred = model.predict(X2_best_valid)\n",
    "\n",
    "print(classification_report(Y2_valid, y_pred))"
   ]
  },
  {
   "cell_type": "code",
   "execution_count": 18,
   "id": "e80b6efc-e7c3-49af-8f10-bd33b59549a5",
   "metadata": {},
   "outputs": [],
   "source": [
    "pca=PCA(0.95)\n",
    "pca = pca.fit(X2_best_train)\n",
    "\n",
    "x_2_train_pca=pca.fit_transform(X2_best_train)\n",
    "x_2_valid_pca = pca.transform(X2_best_valid)\n",
    "x_2_test_pca = pca.transform(X2_best_test)"
   ]
  },
  {
   "cell_type": "code",
   "execution_count": 19,
   "id": "ff2fb508-bdf7-4972-b707-5b45d157abb0",
   "metadata": {},
   "outputs": [
    {
     "name": "stdout",
     "output_type": "stream",
     "text": [
      "              precision    recall  f1-score   support\n",
      "\n",
      "        22.0       0.82      0.86      0.84        36\n",
      "        23.0       0.78      0.92      0.84        71\n",
      "        24.0       0.82      0.87      0.84        46\n",
      "        25.0       0.92      0.84      0.87        79\n",
      "        26.0       0.80      0.95      0.87       115\n",
      "        27.0       0.94      0.84      0.89        81\n",
      "        28.0       0.91      0.91      0.91        46\n",
      "        29.0       0.93      0.89      0.91        45\n",
      "        30.0       0.92      0.73      0.81        48\n",
      "        31.0       0.95      0.91      0.93        65\n",
      "        32.0       0.91      0.91      0.91        11\n",
      "        33.0       0.87      0.90      0.89        30\n",
      "        34.0       1.00      0.82      0.90        11\n",
      "        35.0       1.00      0.82      0.90        11\n",
      "        36.0       0.89      1.00      0.94         8\n",
      "        41.0       1.00      0.64      0.78        14\n",
      "        61.0       1.00      0.95      0.97        19\n",
      "\n",
      "    accuracy                           0.88       736\n",
      "   macro avg       0.91      0.87      0.88       736\n",
      "weighted avg       0.88      0.88      0.88       736\n",
      "\n"
     ]
    }
   ],
   "source": [
    "model.fit(x_2_train_pca, Y2_train)\n",
    "\n",
    "# Make predictions on the test set\n",
    "y_pred = model.predict(x_2_valid_pca)\n",
    "\n",
    "print(classification_report(Y2_valid, y_pred))"
   ]
  },
  {
   "cell_type": "code",
   "execution_count": 20,
   "id": "cce0d30e-2f04-4ada-97df-661a63927658",
   "metadata": {},
   "outputs": [
    {
     "data": {
      "text/plain": [
       "(28040, 154)"
      ]
     },
     "execution_count": 20,
     "metadata": {},
     "output_type": "execute_result"
    }
   ],
   "source": [
    "x_2_train_pca.shape"
   ]
  },
  {
   "cell_type": "code",
   "execution_count": 21,
   "id": "5c0d8218-496d-4f85-8c6d-d27f03179e3e",
   "metadata": {},
   "outputs": [
    {
     "name": "stdout",
     "output_type": "stream",
     "text": [
      "Fitting 5 folds for each of 20 candidates, totalling 100 fits\n",
      "Best Hyperparameters: {'n_neighbors': 1, 'p': 1, 'weights': 'uniform'}\n",
      "Best Accuracy: 0.597432239657632\n"
     ]
    }
   ],
   "source": [
    "param_grid = {\n",
    "    'n_neighbors': [1, 3, 5, 7, 9],  # Test different values of k\n",
    "    'weights': ['uniform', 'distance'],  # Weighting strategy\n",
    "    'p': [1, 2],  # Minkowski distance metric (1 for Manhattan, 2 for Euclidean)\n",
    "}\n",
    "\n",
    "# Create a GridSearchCV object with cross-validation\n",
    "grid_search = GridSearchCV(model, param_grid, cv=5, scoring='accuracy', verbose=1, n_jobs=-1)\n",
    "\n",
    "# Fit the GridSearchCV object to the data to find the best hyperparameters\n",
    "grid_search.fit(x_2_train_pca, Y2_train)\n",
    "\n",
    "# Print the best hyperparameters and corresponding accuracy\n",
    "best_params = grid_search.best_params_\n",
    "best_accuracy = grid_search.best_score_\n",
    "print(\"Best Hyperparameters:\", best_params)\n",
    "print(\"Best Accuracy:\", best_accuracy)"
   ]
  },
  {
   "cell_type": "code",
   "execution_count": 22,
   "id": "2f76349e-faac-482e-8085-1a018a420422",
   "metadata": {},
   "outputs": [
    {
     "name": "stdout",
     "output_type": "stream",
     "text": [
      "              precision    recall  f1-score   support\n",
      "\n",
      "        22.0       0.82      0.92      0.87        36\n",
      "        23.0       0.86      0.85      0.85        71\n",
      "        24.0       0.81      0.93      0.87        46\n",
      "        25.0       0.89      0.86      0.88        79\n",
      "        26.0       0.89      0.96      0.92       115\n",
      "        27.0       0.91      0.91      0.91        81\n",
      "        28.0       0.98      0.89      0.93        46\n",
      "        29.0       0.93      0.93      0.93        45\n",
      "        30.0       0.95      0.85      0.90        48\n",
      "        31.0       0.97      0.91      0.94        65\n",
      "        32.0       0.92      1.00      0.96        11\n",
      "        33.0       0.93      0.93      0.93        30\n",
      "        34.0       1.00      0.82      0.90        11\n",
      "        35.0       0.91      0.91      0.91        11\n",
      "        36.0       0.80      1.00      0.89         8\n",
      "        41.0       1.00      0.86      0.92        14\n",
      "        61.0       1.00      0.95      0.97        19\n",
      "\n",
      "    accuracy                           0.91       736\n",
      "   macro avg       0.92      0.91      0.91       736\n",
      "weighted avg       0.91      0.91      0.91       736\n",
      "\n"
     ]
    }
   ],
   "source": [
    "best_model = grid_search.best_estimator_\n",
    "y_pred = best_model.predict(x_2_valid_pca)\n",
    "test_preds = best_model.predict(x_2_test_pca)\n",
    "\n",
    "print(classification_report(Y2_valid, y_pred))"
   ]
  },
  {
   "cell_type": "code",
   "execution_count": 23,
   "id": "d91ce825-1c34-4c4d-82cf-407d41ee8102",
   "metadata": {},
   "outputs": [],
   "source": [
    "data_frame = pd.DataFrame(test_preds, columns=[\"label_2\"])\n",
    "data_frame.to_csv(f\"190110V_2.csv\",na_rep='')"
   ]
  },
  {
   "cell_type": "code",
   "execution_count": null,
   "id": "28806c68-cb81-4442-9a66-8b67cf8107ee",
   "metadata": {},
   "outputs": [],
   "source": []
  }
 ],
 "metadata": {
  "kernelspec": {
   "display_name": "Python 3 (ipykernel)",
   "language": "python",
   "name": "python3"
  },
  "language_info": {
   "codemirror_mode": {
    "name": "ipython",
    "version": 3
   },
   "file_extension": ".py",
   "mimetype": "text/x-python",
   "name": "python",
   "nbconvert_exporter": "python",
   "pygments_lexer": "ipython3",
   "version": "3.11.4"
  }
 },
 "nbformat": 4,
 "nbformat_minor": 5
}
